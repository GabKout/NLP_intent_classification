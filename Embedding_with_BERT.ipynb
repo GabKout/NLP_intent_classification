{
  "nbformat": 4,
  "nbformat_minor": 0,
  "metadata": {
    "colab": {
      "provenance": [],
      "authorship_tag": "ABX9TyP1YQKLcO7Ly8oe+ZT8utEz",
      "include_colab_link": true
    },
    "kernelspec": {
      "name": "python3",
      "display_name": "Python 3"
    },
    "language_info": {
      "name": "python"
    },
    "accelerator": "GPU",
    "gpuClass": "standard"
  },
  "cells": [
    {
      "cell_type": "markdown",
      "metadata": {
        "id": "view-in-github",
        "colab_type": "text"
      },
      "source": [
        "<a href=\"https://colab.research.google.com/github/GabKout/NLP_intent_classification/blob/main/Embedding_with_BERT.ipynb\" target=\"_parent\"><img src=\"https://colab.research.google.com/assets/colab-badge.svg\" alt=\"Open In Colab\"/></a>"
      ]
    },
    {
      "cell_type": "markdown",
      "source": [
        "Huge thanks to Chris McCormick and Nick Ryan. (2019, May 14). BERT Word Embeddings Tutorial. Retrieved from http://www.mccormickml.com\n",
        "\n"
      ],
      "metadata": {
        "id": "v3CRaf5Da6zu"
      }
    },
    {
      "cell_type": "code",
      "source": [
        "!git clone https://github.com/GabKout/NLP_intent_classification\n",
        "!pip install transformers"
      ],
      "metadata": {
        "id": "FJZO_tVPOCnN"
      },
      "execution_count": null,
      "outputs": []
    },
    {
      "cell_type": "code",
      "source": [
        "import torch\n",
        "from torch.utils.data import TensorDataset, DataLoader, RandomSampler, SequentialSampler\n",
        "from transformers import BertTokenizer, BertForSequenceClassification\n",
        "from sklearn.model_selection import train_test_split\n",
        "\n",
        "import pandas as pd\n",
        "import numpy as np\n",
        "\n",
        "from tabulate import tabulate\n",
        "from tqdm import trange\n",
        "import random\n"
      ],
      "metadata": {
        "id": "9Ik1F0ekD5dI"
      },
      "execution_count": null,
      "outputs": []
    },
    {
      "cell_type": "code",
      "source": [
        "before_df = pd.read_csv(\"/content/NLP_intent_classification/Dataset/before_data.csv\", index_col=0).reset_index(drop=True)\n",
        "after_df = pd.read_csv(\"/content/NLP_intent_classification/Dataset/after_data.csv\", index_col=0).reset_index(drop=True)\n",
        "\n",
        "tokenizer = BertTokenizer.from_pretrained(\n",
        "    'prajjwal1/bert-mini',\n",
        "    do_lower_case = True\n",
        "    )"
      ],
      "metadata": {
        "id": "z0lS6H9HFNtN"
      },
      "execution_count": null,
      "outputs": []
    },
    {
      "cell_type": "code",
      "source": [
        "texts = before_df.text.values\n",
        "labels = before_df.DA.values"
      ],
      "metadata": {
        "id": "OsLqmFwtFj9t"
      },
      "execution_count": null,
      "outputs": []
    },
    {
      "cell_type": "code",
      "source": [
        "def print_rand_sentence(texts):\n",
        "    '''Displays the tokens and respective IDs of a random text sample'''\n",
        "    index = random.randint(0, len(texts)-1)\n",
        "    table = np.array([tokenizer.tokenize(texts[index]), \n",
        "                      tokenizer.convert_tokens_to_ids(tokenizer.tokenize(texts[index]))]).T\n",
        "    print(tabulate(table,\n",
        "                  headers = ['Tokens', 'Token IDs'],\n",
        "                  tablefmt = 'fancy_grid'))\n",
        "\n",
        "print_rand_sentence(texts)\n"
      ],
      "metadata": {
        "id": "P3BjUKvKFeBo"
      },
      "execution_count": null,
      "outputs": []
    },
    {
      "cell_type": "code",
      "source": [
        "token_id = []\n",
        "attention_masks = []\n",
        "\n",
        "def preprocessing(input_text, tokenizer):\n",
        "    '''\n",
        "    Returns <class transformers.tokenization_utils_base.BatchEncoding> with the following fields:\n",
        "      - input_ids: list of token ids\n",
        "      - token_type_ids: list of token type ids\n",
        "      - attention_mask: list of indices (0,1) specifying which tokens should considered by the model (return_attention_mask = True).\n",
        "    '''\n",
        "    return tokenizer.encode_plus(\n",
        "                          input_text,\n",
        "                          add_special_tokens = True,\n",
        "                          max_length = 512,\n",
        "                          pad_to_max_length = True,\n",
        "                          return_attention_mask = True,\n",
        "                          return_tensors = 'pt'\n",
        "                    )\n",
        "\n",
        "\n",
        "for sample in texts:\n",
        "    encoding_dict = preprocessing(sample, tokenizer)\n",
        "    token_id.append(encoding_dict['input_ids']) \n",
        "    attention_masks.append(encoding_dict['attention_mask'])\n",
        "\n",
        "\n",
        "token_id = torch.cat(token_id, dim = 0)\n",
        "attention_masks = torch.cat(attention_masks, dim = 0)\n",
        "# labels = torch.tensor(labels)\n"
      ],
      "metadata": {
        "id": "VWIw9VluF-IQ"
      },
      "execution_count": null,
      "outputs": []
    },
    {
      "cell_type": "code",
      "source": [
        "labels = torch.tensor(pd.get_dummies(labels).values)"
      ],
      "metadata": {
        "id": "q1zOEer3GTHe"
      },
      "execution_count": null,
      "outputs": []
    },
    {
      "cell_type": "code",
      "source": [
        "def print_rand_sentence_encoding(texts):\n",
        "    '''Displays tokens, token IDs and attention mask of a random text sample'''\n",
        "    index = random.randint(0, len(texts) - 1)\n",
        "    tokens = tokenizer.tokenize(tokenizer.decode(token_id[index]))\n",
        "    token_ids = [i.numpy() for i in token_id[index]]\n",
        "    attention = [i.numpy() for i in attention_masks[index]]\n",
        "\n",
        "    table = np.array([tokens, token_ids, attention]).T\n",
        "    print(tabulate(table, \n",
        "                  headers = ['Tokens', 'Token IDs', 'Attention Mask'],\n",
        "                  tablefmt = 'fancy_grid'))\n",
        "\n",
        "print_rand_sentence_encoding(texts)\n"
      ],
      "metadata": {
        "id": "95jRUBrwGn5b"
      },
      "execution_count": null,
      "outputs": []
    },
    {
      "cell_type": "code",
      "source": [
        "val_ratio = 0.2\n",
        "# Recommended batch size: 16, 32. See: https://arxiv.org/pdf/1810.04805.pdf\n",
        "batch_size = 16\n",
        "\n",
        "# Indices of the train and validation splits stratified by labels\n",
        "train_idx, val_idx = train_test_split(\n",
        "    np.arange(len(labels)),\n",
        "    test_size = val_ratio,\n",
        "    shuffle = True,\n",
        "    stratify = labels)\n",
        "\n",
        "# Train and validation sets\n",
        "train_set = TensorDataset(token_id[train_idx], \n",
        "                          attention_masks[train_idx], \n",
        "                          labels[train_idx])\n",
        "\n",
        "val_set = TensorDataset(token_id[val_idx], \n",
        "                        attention_masks[val_idx], \n",
        "                        labels[val_idx])\n",
        "\n",
        "# Prepare DataLoader\n",
        "train_dataloader = DataLoader(\n",
        "            train_set,\n",
        "            sampler = RandomSampler(train_set),\n",
        "            batch_size = batch_size\n",
        "        )\n",
        "\n",
        "validation_dataloader = DataLoader(\n",
        "            val_set,\n",
        "            sampler = SequentialSampler(val_set),\n",
        "            batch_size = batch_size\n",
        "        )\n"
      ],
      "metadata": {
        "id": "87pB3xSvMQG6"
      },
      "execution_count": null,
      "outputs": []
    },
    {
      "cell_type": "code",
      "source": [
        "def b_tp(preds, labels):\n",
        "    '''Returns True Positives (TP): count of correct predictions of actual class 1'''\n",
        "    return sum([preds == labels and preds == 1 for preds, labels in zip(preds, labels)])\n",
        "\n",
        "def b_fp(preds, labels):\n",
        "    '''Returns False Positives (FP): count of wrong predictions of actual class 1'''\n",
        "    return sum([preds != labels and preds == 1 for preds, labels in zip(preds, labels)])\n",
        "\n",
        "def b_tn(preds, labels):\n",
        "    '''Returns True Negatives (TN): count of correct predictions of actual class 0'''\n",
        "    return sum([preds == labels and preds == 0 for preds, labels in zip(preds, labels)])\n",
        "\n",
        "def b_fn(preds, labels):\n",
        "    '''Returns False Negatives (FN): count of wrong predictions of actual class 0'''\n",
        "    return sum([preds != labels and preds == 0 for preds, labels in zip(preds, labels)])\n",
        "\n",
        "def b_metrics(preds, labels):\n",
        "    '''\n",
        "    Returns the following metrics:\n",
        "      - accuracy    = (TP + TN) / N\n",
        "      - precision   = TP / (TP + FP)\n",
        "      - recall      = TP / (TP + FN)\n",
        "      - specificity = TN / (TN + FP)\n",
        "    '''\n",
        "    preds = np.argmax(preds, axis = 1).flatten()\n",
        "    labels = labels.flatten()\n",
        "    tp = b_tp(preds, labels)\n",
        "    tn = b_tn(preds, labels)\n",
        "    fp = b_fp(preds, labels)\n",
        "    fn = b_fn(preds, labels)\n",
        "    b_accuracy = (tp + tn) / len(labels)\n",
        "    b_precision = tp / (tp + fp) if (tp + fp) > 0 else 'nan'\n",
        "    b_recall = tp / (tp + fn) if (tp + fn) > 0 else 'nan'\n",
        "    b_specificity = tn / (tn + fp) if (tn + fp) > 0 else 'nan'\n",
        "    return b_accuracy, b_precision, b_recall, b_specificity\n"
      ],
      "metadata": {
        "id": "-YYhJdFcMjJx"
      },
      "execution_count": null,
      "outputs": []
    },
    {
      "cell_type": "code",
      "source": [
        "model = BertForSequenceClassification.from_pretrained(\n",
        "    'prajjwal1/bert-mini',\n",
        "    num_labels = 6,\n",
        "    output_attentions = False,\n",
        "    output_hidden_states = False,\n",
        ")\n",
        "\n",
        "# Recommended learning rates (Adam): 5e-5, 3e-5, 2e-5. See: https://arxiv.org/pdf/1810.04805.pdf\n",
        "optimizer = torch.optim.AdamW(model.parameters(), \n",
        "                              lr = 5e-5,\n",
        "                              eps = 1e-08\n",
        "                              )\n",
        "\n",
        "# Run on GPU\n",
        "model.cuda()\n"
      ],
      "metadata": {
        "id": "CJ-XGKheNRT2"
      },
      "execution_count": null,
      "outputs": []
    },
    {
      "cell_type": "code",
      "source": [
        "device = torch.device('cuda' if torch.cuda.is_available() else 'cpu')\n",
        "\n",
        "# Recommended number of epochs: 2, 3, 4. See: https://arxiv.org/pdf/1810.04805.pdf\n",
        "epochs = 3\n",
        "\n",
        "for _ in trange(epochs, desc = 'Epoch'):\n",
        "    \n",
        "    # ========== Training ==========\n",
        "    \n",
        "    # Set model to training mode\n",
        "    model.train()\n",
        "    \n",
        "    # Tracking variables\n",
        "    tr_loss = 0\n",
        "    nb_tr_examples, nb_tr_steps = 0, 0\n",
        "\n",
        "    for step, batch in enumerate(train_dataloader):\n",
        "        batch = tuple(t.to(device) for t in batch)\n",
        "        b_input_ids, b_input_mask, b_labels = batch\n",
        "        optimizer.zero_grad()\n",
        "        # Forward pass\n",
        "        train_output = model(b_input_ids, \n",
        "                             token_type_ids = None, \n",
        "                             attention_mask = b_input_mask, \n",
        "                             labels = b_labels)\n",
        "        # Backward pass\n",
        "        train_output.loss.backward()\n",
        "        optimizer.step()\n",
        "        # Update tracking variables\n",
        "        tr_loss += train_output.loss.item()\n",
        "        nb_tr_examples += b_input_ids.size(0)\n",
        "        nb_tr_steps += 1\n",
        "\n",
        "    # ========== Validation ==========\n",
        "\n",
        "    # Set model to evaluation mode\n",
        "    model.eval()\n",
        "\n",
        "    # Tracking variables \n",
        "    val_accuracy = []\n",
        "    val_precision = []\n",
        "    val_recall = []\n",
        "    val_specificity = []\n",
        "\n",
        "    for batch in validation_dataloader:\n",
        "        batch = tuple(t.to(device) for t in batch)\n",
        "        b_input_ids, b_input_mask, b_labels = batch\n",
        "        with torch.no_grad():\n",
        "          # Forward pass\n",
        "          eval_output = model(b_input_ids, \n",
        "                              token_type_ids = None, \n",
        "                              attention_mask = b_input_mask)\n",
        "        logits = eval_output.logits.detach().cpu().numpy()\n",
        "        label_ids = b_labels.to('cpu').numpy()\n",
        "        # Calculate validation metrics\n",
        "        b_accuracy, b_precision, b_recall, b_specificity = b_metrics(logits, label_ids)\n",
        "        val_accuracy.append(b_accuracy)\n",
        "        # Update precision only when (tp + fp) !=0; ignore nan\n",
        "        if b_precision != 'nan': val_precision.append(b_precision)\n",
        "        # Update recall only when (tp + fn) !=0; ignore nan\n",
        "        if b_recall != 'nan': val_recall.append(b_recall)\n",
        "        # Update specificity only when (tn + fp) !=0; ignore nan\n",
        "        if b_specificity != 'nan': val_specificity.append(b_specificity)\n",
        "\n",
        "    print('\\n\\t - Train loss: {:.4f}'.format(tr_loss / nb_tr_steps))\n",
        "    print('\\t - Validation Accuracy: {:.4f}'.format(sum(val_accuracy)/len(val_accuracy)))\n",
        "    print('\\t - Validation Precision: {:.4f}'.format(sum(val_precision)/len(val_precision)) if len(val_precision)>0 else '\\t - Validation Precision: NaN')\n",
        "    print('\\t - Validation Recall: {:.4f}'.format(sum(val_recall)/len(val_recall)) if len(val_recall)>0 else '\\t - Validation Recall: NaN')\n",
        "    print('\\t - Validation Specificity: {:.4f}\\n'.format(sum(val_specificity)/len(val_specificity)) if len(val_specificity)>0 else '\\t - Validation Specificity: NaN')\n"
      ],
      "metadata": {
        "id": "DQYhbRvzOjKZ"
      },
      "execution_count": null,
      "outputs": []
    }
  ]
}